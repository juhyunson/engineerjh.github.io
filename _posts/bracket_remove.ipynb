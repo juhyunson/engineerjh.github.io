{
 "cells": [
  {
   "cell_type": "markdown",
   "metadata": {},
   "source": [
    "### 텍스트 전처리\n",
    "\n",
    "- 문장에서 괄호를 제외한 부분만 추출하기\n",
    "- 추출한 문장은 new 컬럼으로 저장\n",
    "- 새로운 데이터프레임은 csv 파일로 저장 \n",
    "\n",
    "### Text Pre-processing\n",
    "\n",
    "- Getting the sentence without bracket\n",
    "- The sentence after pre-processing will be saved in column ```new``` \n",
    "- The new dataframe will be saved as CSV file"
   ]
  },
  {
   "cell_type": "code",
   "execution_count": 1,
   "metadata": {},
   "outputs": [],
   "source": [
    "#reading excel\n",
    "import pandas as pd"
   ]
  },
  {
   "cell_type": "code",
   "execution_count": 3,
   "metadata": {},
   "outputs": [
    {
     "data": {
      "text/html": [
       "<div>\n",
       "<style scoped>\n",
       "    .dataframe tbody tr th:only-of-type {\n",
       "        vertical-align: middle;\n",
       "    }\n",
       "\n",
       "    .dataframe tbody tr th {\n",
       "        vertical-align: top;\n",
       "    }\n",
       "\n",
       "    .dataframe thead th {\n",
       "        text-align: right;\n",
       "    }\n",
       "</style>\n",
       "<table border=\"1\" class=\"dataframe\">\n",
       "  <thead>\n",
       "    <tr style=\"text-align: right;\">\n",
       "      <th></th>\n",
       "      <th>화일번호 :</th>\n",
       "      <th>대본종합_200929</th>\n",
       "      <th>Unnamed: 2</th>\n",
       "      <th>Unnamed: 3</th>\n",
       "    </tr>\n",
       "  </thead>\n",
       "  <tbody>\n",
       "    <tr>\n",
       "      <th>28593</th>\n",
       "      <td>28593</td>\n",
       "      <td>일본에게 뽄때(본때)를 보여주자.</td>\n",
       "      <td>일상대화</td>\n",
       "      <td>NaN</td>\n",
       "    </tr>\n",
       "    <tr>\n",
       "      <th>28594</th>\n",
       "      <td>28594</td>\n",
       "      <td>매정하게 배신한 남자에게 뽄때(본때)를 보여주자.</td>\n",
       "      <td>연애/결혼</td>\n",
       "      <td>NaN</td>\n",
       "    </tr>\n",
       "  </tbody>\n",
       "</table>\n",
       "</div>"
      ],
      "text/plain": [
       "      화일번호 :                   대본종합_200929 Unnamed: 2 Unnamed: 3\n",
       "28593   28593           일본에게 뽄때(본때)를 보여주자.       일상대화        NaN\n",
       "28594   28594  매정하게 배신한 남자에게 뽄때(본때)를 보여주자.      연애/결혼        NaN"
      ]
     },
     "execution_count": 3,
     "metadata": {},
     "output_type": "execute_result"
    }
   ],
   "source": [
    "#전체 데이터 확인\n",
    "dialect=pd.read_excel('./대본종합_200929.xlsx')\n",
    "dialect.tail(2)"
   ]
  },
  {
   "cell_type": "markdown",
   "metadata": {},
   "source": [
    "### 정규표현식 설명\n",
    "```\n",
    "\\( : 괄호로 시작\n",
    "[^)] :닫는 괄호를 제외한 모든 글자들 \n",
    "* : 여러개의 글자가능\n",
    "\\) : 괄호로 끝남\n",
    "```"
   ]
  },
  {
   "cell_type": "code",
   "execution_count": 4,
   "metadata": {},
   "outputs": [],
   "source": [
    "# new 컬럼 : 괄호를 제외한 새로운 문장 \n",
    "dialect['new']=dialect['대본종합_200929'].replace(r'\\([^)]*\\)','',regex=True)"
   ]
  },
  {
   "cell_type": "code",
   "execution_count": 5,
   "metadata": {},
   "outputs": [
    {
     "data": {
      "text/html": [
       "<div>\n",
       "<style scoped>\n",
       "    .dataframe tbody tr th:only-of-type {\n",
       "        vertical-align: middle;\n",
       "    }\n",
       "\n",
       "    .dataframe tbody tr th {\n",
       "        vertical-align: top;\n",
       "    }\n",
       "\n",
       "    .dataframe thead th {\n",
       "        text-align: right;\n",
       "    }\n",
       "</style>\n",
       "<table border=\"1\" class=\"dataframe\">\n",
       "  <thead>\n",
       "    <tr style=\"text-align: right;\">\n",
       "      <th></th>\n",
       "      <th>화일번호 :</th>\n",
       "      <th>대본종합_200929</th>\n",
       "      <th>Unnamed: 2</th>\n",
       "      <th>Unnamed: 3</th>\n",
       "      <th>new</th>\n",
       "    </tr>\n",
       "  </thead>\n",
       "  <tbody>\n",
       "    <tr>\n",
       "      <th>28593</th>\n",
       "      <td>28593</td>\n",
       "      <td>일본에게 뽄때(본때)를 보여주자.</td>\n",
       "      <td>일상대화</td>\n",
       "      <td>NaN</td>\n",
       "      <td>일본에게 뽄때를 보여주자.</td>\n",
       "    </tr>\n",
       "    <tr>\n",
       "      <th>28594</th>\n",
       "      <td>28594</td>\n",
       "      <td>매정하게 배신한 남자에게 뽄때(본때)를 보여주자.</td>\n",
       "      <td>연애/결혼</td>\n",
       "      <td>NaN</td>\n",
       "      <td>매정하게 배신한 남자에게 뽄때를 보여주자.</td>\n",
       "    </tr>\n",
       "  </tbody>\n",
       "</table>\n",
       "</div>"
      ],
      "text/plain": [
       "      화일번호 :                   대본종합_200929 Unnamed: 2 Unnamed: 3  \\\n",
       "28593   28593           일본에게 뽄때(본때)를 보여주자.       일상대화        NaN   \n",
       "28594   28594  매정하게 배신한 남자에게 뽄때(본때)를 보여주자.      연애/결혼        NaN   \n",
       "\n",
       "                           new  \n",
       "28593           일본에게 뽄때를 보여주자.  \n",
       "28594  매정하게 배신한 남자에게 뽄때를 보여주자.  "
      ]
     },
     "execution_count": 5,
     "metadata": {},
     "output_type": "execute_result"
    }
   ],
   "source": [
    "dialect.tail(2)"
   ]
  },
  {
   "cell_type": "code",
   "execution_count": 6,
   "metadata": {},
   "outputs": [
    {
     "data": {
      "text/plain": [
       "화일번호 :                                         005\n",
       "대본종합_200929    그래도 그런 놈은 여븐뎅이루(옆으로) 써도 매련(형편) 없는데.\n",
       "Unnamed: 2                                     NaN\n",
       "Unnamed: 3                                     NaN\n",
       "new                     그래도 그런 놈은 여븐뎅이루 써도 매련 없는데.\n",
       "Name: 5, dtype: object"
      ]
     },
     "execution_count": 6,
     "metadata": {},
     "output_type": "execute_result"
    }
   ],
   "source": [
    "dialect.loc[5]"
   ]
  },
  {
   "cell_type": "markdown",
   "metadata": {},
   "source": [
    "### 적용 & csv 생성"
   ]
  },
  {
   "cell_type": "code",
   "execution_count": 7,
   "metadata": {},
   "outputs": [],
   "source": [
    "dialect.to_csv('preprocessed_dialect.csv')"
   ]
  },
  {
   "cell_type": "code",
   "execution_count": 8,
   "metadata": {},
   "outputs": [
    {
     "data": {
      "text/html": [
       "<div>\n",
       "<style scoped>\n",
       "    .dataframe tbody tr th:only-of-type {\n",
       "        vertical-align: middle;\n",
       "    }\n",
       "\n",
       "    .dataframe tbody tr th {\n",
       "        vertical-align: top;\n",
       "    }\n",
       "\n",
       "    .dataframe thead th {\n",
       "        text-align: right;\n",
       "    }\n",
       "</style>\n",
       "<table border=\"1\" class=\"dataframe\">\n",
       "  <thead>\n",
       "    <tr style=\"text-align: right;\">\n",
       "      <th></th>\n",
       "      <th>Unnamed: 0</th>\n",
       "      <th>화일번호 :</th>\n",
       "      <th>대본종합_200929</th>\n",
       "      <th>Unnamed: 2</th>\n",
       "      <th>Unnamed: 3</th>\n",
       "      <th>new</th>\n",
       "    </tr>\n",
       "  </thead>\n",
       "  <tbody>\n",
       "    <tr>\n",
       "      <th>28590</th>\n",
       "      <td>28590</td>\n",
       "      <td>28590</td>\n",
       "      <td>회사갈때 정장을 입어야 뽄때(본때)가 나지.</td>\n",
       "      <td>회사/학교</td>\n",
       "      <td>NaN</td>\n",
       "      <td>회사갈때 정장을 입어야 뽄때가 나지.</td>\n",
       "    </tr>\n",
       "    <tr>\n",
       "      <th>28591</th>\n",
       "      <td>28591</td>\n",
       "      <td>28591</td>\n",
       "      <td>학교에서는 공부잘하는기 뽄때(본때) 있는기다.</td>\n",
       "      <td>회사/학교</td>\n",
       "      <td>NaN</td>\n",
       "      <td>학교에서는 공부잘하는기 뽄때 있는기다.</td>\n",
       "    </tr>\n",
       "    <tr>\n",
       "      <th>28592</th>\n",
       "      <td>28592</td>\n",
       "      <td>28592</td>\n",
       "      <td>뽄때(본때)를 보여주는건 좋지만 거짓말 하면 욕합니다.</td>\n",
       "      <td>일상대화</td>\n",
       "      <td>NaN</td>\n",
       "      <td>뽄때를 보여주는건 좋지만 거짓말 하면 욕합니다.</td>\n",
       "    </tr>\n",
       "    <tr>\n",
       "      <th>28593</th>\n",
       "      <td>28593</td>\n",
       "      <td>28593</td>\n",
       "      <td>일본에게 뽄때(본때)를 보여주자.</td>\n",
       "      <td>일상대화</td>\n",
       "      <td>NaN</td>\n",
       "      <td>일본에게 뽄때를 보여주자.</td>\n",
       "    </tr>\n",
       "    <tr>\n",
       "      <th>28594</th>\n",
       "      <td>28594</td>\n",
       "      <td>28594</td>\n",
       "      <td>매정하게 배신한 남자에게 뽄때(본때)를 보여주자.</td>\n",
       "      <td>연애/결혼</td>\n",
       "      <td>NaN</td>\n",
       "      <td>매정하게 배신한 남자에게 뽄때를 보여주자.</td>\n",
       "    </tr>\n",
       "  </tbody>\n",
       "</table>\n",
       "</div>"
      ],
      "text/plain": [
       "       Unnamed: 0 화일번호 :                      대본종합_200929 Unnamed: 2  \\\n",
       "28590       28590   28590        회사갈때 정장을 입어야 뽄때(본때)가 나지.      회사/학교   \n",
       "28591       28591   28591       학교에서는 공부잘하는기 뽄때(본때) 있는기다.      회사/학교   \n",
       "28592       28592   28592  뽄때(본때)를 보여주는건 좋지만 거짓말 하면 욕합니다.       일상대화   \n",
       "28593       28593   28593              일본에게 뽄때(본때)를 보여주자.       일상대화   \n",
       "28594       28594   28594     매정하게 배신한 남자에게 뽄때(본때)를 보여주자.      연애/결혼   \n",
       "\n",
       "      Unnamed: 3                         new  \n",
       "28590        NaN        회사갈때 정장을 입어야 뽄때가 나지.  \n",
       "28591        NaN       학교에서는 공부잘하는기 뽄때 있는기다.  \n",
       "28592        NaN  뽄때를 보여주는건 좋지만 거짓말 하면 욕합니다.  \n",
       "28593        NaN              일본에게 뽄때를 보여주자.  \n",
       "28594        NaN     매정하게 배신한 남자에게 뽄때를 보여주자.  "
      ]
     },
     "execution_count": 8,
     "metadata": {},
     "output_type": "execute_result"
    }
   ],
   "source": [
    "new_dialect=pd.read_csv('./preprocessed_dialect.csv')\n",
    "new_dialect.tail(5)"
   ]
  }
 ],
 "metadata": {
  "kernelspec": {
   "display_name": "Python 3",
   "language": "python",
   "name": "python3"
  },
  "language_info": {
   "codemirror_mode": {
    "name": "ipython",
    "version": 3
   },
   "file_extension": ".py",
   "mimetype": "text/x-python",
   "name": "python",
   "nbconvert_exporter": "python",
   "pygments_lexer": "ipython3",
   "version": "3.6.10"
  }
 },
 "nbformat": 4,
 "nbformat_minor": 4
}
