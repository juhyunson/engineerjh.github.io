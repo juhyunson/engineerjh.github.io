{
 "cells": [
  {
   "cell_type": "markdown",
   "metadata": {},
   "source": [
    "### 텍스트 파일의 정보 추출\n",
    "- 문장수\n",
    "- 공백수\n",
    "- 단어수-공백포함\n",
    "- 단어수-공백제외\n",
    "- 글자수 \n",
    "\n",
    "### Get some information from the text file\n",
    "- The number of lines\n",
    "- The number of blanks\n",
    "- The number of words(including blanks)\n",
    "- The number of words\n",
    "- The numver of characters"
   ]
  },
  {
   "cell_type": "code",
   "execution_count": 1,
   "metadata": {},
   "outputs": [],
   "source": [
    "import os  \n",
    "import sys  \n",
    "import pandas as pd"
   ]
  },
  {
   "cell_type": "code",
   "execution_count": 2,
   "metadata": {},
   "outputs": [],
   "source": [
    "def text_data_information(file):\n",
    "    count = 0\n",
    "    spaces = 0  \n",
    "    char_count = 0  \n",
    "    word_count=0  \n",
    "    word_count_without = 0\n",
    "\n",
    "    for line_count, line in enumerate(file):  \n",
    "        count = line_count + 1\n",
    "\n",
    "        spaces += line.count(' ')  \n",
    "\n",
    "        word_count += len(line.split(\" \"))\n",
    "\n",
    "        split_line=line.split(\" \")\n",
    "        without= [word for word in split_line if word!='\\n']\n",
    "        word_count_without+=len((without))\n",
    "\n",
    "        char_count += line.__len__()  \n",
    "\n",
    "    df=pd.DataFrame({'문장수':count, '공백수':spaces, '단어수-공백포함': word_count, \\\n",
    "                     '단어수-공백제외':word_count_without, '글자수': char_count},\n",
    "                   index=['{}'.format(file.name[7:])])\n",
    "    \n",
    "    return df"
   ]
  },
  {
   "cell_type": "markdown",
   "metadata": {},
   "source": [
    "#### 폴더 ```data``` 안의 모든 파일에 적용\n",
    "- 모든 파일의 정보 추출\n",
    "- 추출한 정보는 엑셀파일로 저장\n",
    "\n",
    "#### Apply all files in folder ```data```\n",
    "- Get some information of all files from the folder\n",
    "- Save the information as an excel file at the folder "
   ]
  },
  {
   "cell_type": "code",
   "execution_count": 4,
   "metadata": {},
   "outputs": [],
   "source": [
    "listdir=os.listdir('./data/')\n",
    "all_information=pd.DataFrame()\n",
    "information_list=[]\n",
    "\n",
    "for list in listdir[:3]:\n",
    "    file = open(\"./data/{}\".format(list))  \n",
    "    information=text_data_information(file)\n",
    "    information_list.append(information)\n",
    "\n",
    "all_information=pd.concat(information_list,ignore_index=False)\n",
    "all_information.to_excel('./test_data_information.xlsx')"
   ]
  },
  {
   "cell_type": "code",
   "execution_count": 4,
   "metadata": {
    "scrolled": true
   },
   "outputs": [
    {
     "data": {
      "text/html": [
       "<div>\n",
       "<style scoped>\n",
       "    .dataframe tbody tr th:only-of-type {\n",
       "        vertical-align: middle;\n",
       "    }\n",
       "\n",
       "    .dataframe tbody tr th {\n",
       "        vertical-align: top;\n",
       "    }\n",
       "\n",
       "    .dataframe thead th {\n",
       "        text-align: right;\n",
       "    }\n",
       "</style>\n",
       "<table border=\"1\" class=\"dataframe\">\n",
       "  <thead>\n",
       "    <tr style=\"text-align: right;\">\n",
       "      <th></th>\n",
       "      <th>Unnamed: 0</th>\n",
       "      <th>문장수</th>\n",
       "      <th>공백수</th>\n",
       "      <th>단어수-공백포함</th>\n",
       "      <th>단어수-공백제외</th>\n",
       "      <th>글자수</th>\n",
       "    </tr>\n",
       "  </thead>\n",
       "  <tbody>\n",
       "    <tr>\n",
       "      <th>0</th>\n",
       "      <td>20150129100059862_644535_4450_A.txt</td>\n",
       "      <td>8</td>\n",
       "      <td>38</td>\n",
       "      <td>46</td>\n",
       "      <td>40</td>\n",
       "      <td>169</td>\n",
       "    </tr>\n",
       "    <tr>\n",
       "      <th>1</th>\n",
       "      <td>20150129100059862_644535_4450_B.txt</td>\n",
       "      <td>9</td>\n",
       "      <td>15</td>\n",
       "      <td>24</td>\n",
       "      <td>17</td>\n",
       "      <td>64</td>\n",
       "    </tr>\n",
       "    <tr>\n",
       "      <th>2</th>\n",
       "      <td>20150129100059863_641331_4707_A.txt</td>\n",
       "      <td>17</td>\n",
       "      <td>130</td>\n",
       "      <td>147</td>\n",
       "      <td>147</td>\n",
       "      <td>604</td>\n",
       "    </tr>\n",
       "  </tbody>\n",
       "</table>\n",
       "</div>"
      ],
      "text/plain": [
       "                            Unnamed: 0  문장수  공백수  단어수-공백포함  단어수-공백제외  글자수\n",
       "0  20150129100059862_644535_4450_A.txt    8   38        46        40  169\n",
       "1  20150129100059862_644535_4450_B.txt    9   15        24        17   64\n",
       "2  20150129100059863_641331_4707_A.txt   17  130       147       147  604"
      ]
     },
     "execution_count": 4,
     "metadata": {},
     "output_type": "execute_result"
    }
   ],
   "source": [
    "a=pd.read_excel('./test_data_information.xlsx')\n",
    "a.head(2)"
   ]
  }
 ],
 "metadata": {
  "kernelspec": {
   "display_name": "Python 3",
   "language": "python",
   "name": "python3"
  },
  "language_info": {
   "codemirror_mode": {
    "name": "ipython",
    "version": 3
   },
   "file_extension": ".py",
   "mimetype": "text/x-python",
   "name": "python",
   "nbconvert_exporter": "python",
   "pygments_lexer": "ipython3",
   "version": "3.6.10"
  }
 },
 "nbformat": 4,
 "nbformat_minor": 4
}
